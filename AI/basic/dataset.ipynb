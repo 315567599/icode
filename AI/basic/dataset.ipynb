{
 "cells": [
  {
   "cell_type": "code",
   "execution_count": 7,
   "metadata": {},
   "outputs": [
    {
     "name": "stdout",
     "output_type": "stream",
     "text": [
      "dataset1.output_types <dtype: 'float32'>\n",
      "dataset1.output_shapes (10,)\n",
      "dataset2.output_types {'a': tf.float32, 'b': tf.int32}\n",
      "dataset3.output_types (tf.float32, {'a': tf.float32, 'b': tf.int32})\n"
     ]
    }
   ],
   "source": [
    "import tensorflow as tf\n",
    "\n",
    "#An element contains one or more tf.Tensor objects, called components\n",
    "dataset1 = tf.data.Dataset.from_tensor_slices(tf.random_uniform([4, 10]))\n",
    "print(\"dataset1.output_types\",dataset1.output_types)\n",
    "print(\"dataset1.output_shapes\",dataset1.output_shapes)\n",
    "\n",
    "dataset2 = tf.data.Dataset.from_tensor_slices(\n",
    "   {\"a\": tf.random_uniform([4]),\n",
    "    \"b\": tf.random_uniform([4, 100], maxval=100, dtype=tf.int32)})\n",
    "print(\"dataset2.output_types\",dataset2.output_types)\n",
    "\n",
    "dataset3 = tf.data.Dataset.zip((dataset1, dataset2))\n",
    "print(\"dataset3.output_types\",dataset3.output_types)\n"
   ]
  },
  {
   "cell_type": "code",
   "execution_count": 13,
   "metadata": {},
   "outputs": [
    {
     "name": "stdout",
     "output_type": "stream",
     "text": [
      "batched data 1: {'a': 0.476305, 'b': array([80, 66, 30, 30, 35, 69,  1,  5, 40, 41, 80, 36, 47,  3,  2, 28, 85,\n",
      "        9, 55, 29, 83, 72, 24, 49, 59, 36, 85, 19, 54, 28, 40, 47, 82, 76,\n",
      "       77, 40, 34, 22, 86, 98, 38, 59, 66, 54,  4, 40, 66, 20, 95, 31, 46,\n",
      "        8, 55, 56, 24, 32, 86, 43,  7, 79, 29, 66, 35, 49, 48, 10, 53,  5,\n",
      "       27, 95, 63, 12, 21, 52, 64, 67, 28, 42,  0, 95, 12, 11, 66, 43, 36,\n",
      "        3, 32, 11, 72, 83, 21, 51,  9, 22, 23, 60, 47,  6, 18, 80],\n",
      "      dtype=int32)}\n",
      "batch data 2: {'a': 0.7460973, 'b': array([93, 17, 73, 58, 75, 32, 26, 31, 40, 55, 16, 65, 43, 58, 13, 76, 78,\n",
      "       95, 10, 80, 62,  1, 68, 79, 11, 92, 67, 76, 89, 88, 18,  3,  8, 97,\n",
      "       67, 54,  2, 70, 37, 20, 94, 19, 36, 76,  8, 97, 86, 15, 88, 48, 11,\n",
      "       16, 31,  5, 99,  2, 17, 47, 63, 43, 47, 39, 22, 39, 20, 29, 32, 33,\n",
      "       86, 30, 19, 16, 77, 62, 14, 88, 11, 25, 86, 82, 49, 40, 41, 75, 28,\n",
      "       40, 34, 89, 87, 30,  1, 24,  2, 86, 61, 53, 65, 34, 50, 99],\n",
      "      dtype=int32)}\n",
      "batched data 3: {'a': 0.24962997, 'b': array([97, 79, 74, 87, 71, 90, 45, 41, 47, 29, 55, 29, 85, 55,  6, 47, 34,\n",
      "       80, 86, 76, 56, 61, 65, 87, 95, 38, 25, 95, 63, 23, 43, 69, 90, 64,\n",
      "       75, 93, 68, 14,  4, 23, 57, 13, 14, 57, 98, 10, 59, 16, 87, 27, 81,\n",
      "       14,  6, 11, 53, 80, 15, 92, 97,  0, 59, 60, 14, 75, 14, 91, 13, 40,\n",
      "       39, 71, 57, 29, 90, 51, 52, 66, 67,  8, 78, 63, 77, 14, 55, 27, 41,\n",
      "       10, 10, 53, 89, 97, 75, 77, 79, 74,  6, 82, 79, 75, 23, 79],\n",
      "      dtype=int32)}\n",
      "batch data 4: {'a': 0.6501249, 'b': array([68, 66, 24, 87,  6, 11, 51, 58, 50, 80, 61, 66, 31, 16, 82, 67, 78,\n",
      "       20, 15, 91, 96, 18, 63, 86, 42, 70, 98, 15, 89, 64, 14, 79, 86, 71,\n",
      "       72, 88, 78, 58, 80,  1, 18, 88, 23, 32, 15, 36, 86, 49, 76, 56,  1,\n",
      "       88, 80, 63, 66,  9, 41, 66, 57, 81, 71, 66, 14, 79, 65, 75,  0, 30,\n",
      "       44, 52, 73, 18, 26, 86, 68, 70, 29, 31, 60, 11, 69, 81, 57, 81,  9,\n",
      "       49, 98, 13, 27, 35, 93, 82, 63, 43, 15,  3, 34,  6, 63, 67],\n",
      "      dtype=int32)}\n"
     ]
    }
   ],
   "source": [
    "sess = tf.Session()\n",
    "iterator = dataset2.make_initializable_iterator()\n",
    "sess.run(iterator.initializer)\n",
    "next_element = iterator.get_next()\n",
    "init_op = iterator.initializer\n",
    "print(\"batched data 1:\",sess.run(next_element))\n",
    "print(\"batch data 2:\",sess.run(next_element))\n",
    "print(\"batched data 3:\",sess.run(next_element))\n",
    "print(\"batch data 4:\",sess.run(next_element))\n",
    "#print(\"batch data 5:\",sess.run(next_element)) 运行时报错"
   ]
  },
  {
   "cell_type": "code",
   "execution_count": null,
   "metadata": {},
   "outputs": [],
   "source": []
  }
 ],
 "metadata": {
  "kernelspec": {
   "display_name": "Python 3",
   "language": "python",
   "name": "python3"
  },
  "language_info": {
   "codemirror_mode": {
    "name": "ipython",
    "version": 3
   },
   "file_extension": ".py",
   "mimetype": "text/x-python",
   "name": "python",
   "nbconvert_exporter": "python",
   "pygments_lexer": "ipython3",
   "version": "3.6.4"
  }
 },
 "nbformat": 4,
 "nbformat_minor": 2
}
