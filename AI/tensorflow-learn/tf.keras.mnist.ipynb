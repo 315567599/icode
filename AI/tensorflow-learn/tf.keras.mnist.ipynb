{
 "cells": [
  {
   "cell_type": "code",
   "execution_count": 6,
   "metadata": {},
   "outputs": [
    {
     "name": "stdout",
     "output_type": "stream",
     "text": [
      "Epoch 1/20\n",
      "60000/60000 [==============================] - 16s 267us/step - loss: 0.2223 - acc: 0.9349\n",
      "Epoch 2/20\n",
      "60000/60000 [==============================] - 15s 250us/step - loss: 0.0975 - acc: 0.9701\n",
      "Epoch 3/20\n",
      "60000/60000 [==============================] - 14s 239us/step - loss: 0.0702 - acc: 0.9779\n",
      "Epoch 4/20\n",
      "60000/60000 [==============================] - 14s 233us/step - loss: 0.0553 - acc: 0.9827\n",
      "Epoch 5/20\n",
      "60000/60000 [==============================] - 14s 232us/step - loss: 0.0443 - acc: 0.9857\n",
      "Epoch 6/20\n",
      "60000/60000 [==============================] - 15s 247us/step - loss: 0.0364 - acc: 0.9875\n",
      "Epoch 7/20\n",
      "60000/60000 [==============================] - 14s 234us/step - loss: 0.0331 - acc: 0.9888\n",
      "Epoch 8/20\n",
      "60000/60000 [==============================] - 14s 232us/step - loss: 0.0263 - acc: 0.9912\n",
      "Epoch 9/20\n",
      "60000/60000 [==============================] - 14s 230us/step - loss: 0.0263 - acc: 0.9911\n",
      "Epoch 10/20\n",
      "60000/60000 [==============================] - 14s 234us/step - loss: 0.0226 - acc: 0.9922\n",
      "Epoch 11/20\n",
      "60000/60000 [==============================] - 14s 230us/step - loss: 0.0201 - acc: 0.9934\n",
      "Epoch 12/20\n",
      "60000/60000 [==============================] - 14s 233us/step - loss: 0.0188 - acc: 0.9937\n",
      "Epoch 13/20\n",
      "60000/60000 [==============================] - 14s 230us/step - loss: 0.0196 - acc: 0.9935\n",
      "Epoch 14/20\n",
      "60000/60000 [==============================] - 14s 230us/step - loss: 0.0160 - acc: 0.9946\n",
      "Epoch 15/20\n",
      "60000/60000 [==============================] - 14s 235us/step - loss: 0.0172 - acc: 0.9942\n",
      "Epoch 16/20\n",
      "60000/60000 [==============================] - 14s 231us/step - loss: 0.0150 - acc: 0.9949\n",
      "Epoch 17/20\n",
      "60000/60000 [==============================] - 14s 230us/step - loss: 0.0132 - acc: 0.9956\n",
      "Epoch 18/20\n",
      "60000/60000 [==============================] - 14s 229us/step - loss: 0.0166 - acc: 0.9948\n",
      "Epoch 19/20\n",
      "60000/60000 [==============================] - 14s 232us/step - loss: 0.0125 - acc: 0.9958\n",
      "Epoch 20/20\n",
      "60000/60000 [==============================] - 14s 232us/step - loss: 0.0131 - acc: 0.9958\n",
      "10000/10000 [==============================] - 1s 82us/step\n"
     ]
    },
    {
     "data": {
      "text/plain": [
       "[0.08524198747928603, 0.983]"
      ]
     },
     "execution_count": 6,
     "metadata": {},
     "output_type": "execute_result"
    }
   ],
   "source": [
    "import tensorflow as tf\n",
    "mnist = tf.keras.datasets.mnist\n",
    "\n",
    "(x_train, y_train),(x_test, y_test) = mnist.load_data()\n",
    "x_train, x_test = x_train / 255.0, x_test / 255.0\n",
    "\n",
    "model = tf.keras.models.Sequential([\n",
    "  tf.keras.layers.Flatten(input_shape=(28, 28)),\n",
    "  tf.keras.layers.Dense(512, activation=tf.nn.relu),\n",
    "  tf.keras.layers.Dropout(0.2),\n",
    "  tf.keras.layers.Dense(10, activation=tf.nn.softmax)\n",
    "])\n",
    "model.compile(optimizer='adam',\n",
    "              loss='sparse_categorical_crossentropy',\n",
    "              metrics=['accuracy'])\n",
    "\n",
    "model.fit(x_train, y_train, epochs=20)\n",
    "model.evaluate(x_test, y_test)"
   ]
  },
  {
   "cell_type": "code",
   "execution_count": null,
   "metadata": {},
   "outputs": [],
   "source": []
  }
 ],
 "metadata": {
  "kernelspec": {
   "display_name": "Python (reco)",
   "language": "python",
   "name": "reco_base"
  },
  "language_info": {
   "codemirror_mode": {
    "name": "ipython",
    "version": 3
   },
   "file_extension": ".py",
   "mimetype": "text/x-python",
   "name": "python",
   "nbconvert_exporter": "python",
   "pygments_lexer": "ipython3",
   "version": "3.6.8"
  }
 },
 "nbformat": 4,
 "nbformat_minor": 2
}
