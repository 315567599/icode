{
 "cells": [
  {
   "cell_type": "code",
   "execution_count": null,
   "metadata": {},
   "outputs": [
    {
     "name": "stdout",
     "output_type": "stream",
     "text": [
      "Epoch 1/10\n",
      "60000/60000 [==============================] - 16s 262us/step - loss: 0.2233 - acc: 0.9342\n",
      "Epoch 2/10\n",
      "60000/60000 [==============================] - 15s 250us/step - loss: 0.0984 - acc: 0.9696\n",
      "Epoch 3/10\n",
      "60000/60000 [==============================] - 15s 250us/step - loss: 0.0712 - acc: 0.9773\n",
      "Epoch 4/10\n",
      "60000/60000 [==============================] - 15s 251us/step - loss: 0.0533 - acc: 0.9829\n",
      "Epoch 5/10\n",
      "60000/60000 [==============================] - 15s 252us/step - loss: 0.0441 - acc: 0.9849\n",
      "Epoch 6/10\n",
      "60000/60000 [==============================] - 15s 252us/step - loss: 0.0366 - acc: 0.9879\n",
      "Epoch 7/10\n",
      "60000/60000 [==============================] - 15s 257us/step - loss: 0.0313 - acc: 0.9897\n",
      "Epoch 8/10\n",
      "60000/60000 [==============================] - 15s 252us/step - loss: 0.0263 - acc: 0.9914\n",
      "Epoch 9/10\n",
      "60000/60000 [==============================] - 15s 255us/step - loss: 0.0263 - acc: 0.9911\n",
      "Epoch 10/10\n",
      "30976/60000 [==============>...............] - ETA: 7s - loss: 0.0194 - acc: 0.9940"
     ]
    }
   ],
   "source": [
    "import tensorflow as tf\n",
    "mnist = tf.keras.datasets.mnist\n",
    "\n",
    "(x_train, y_train),(x_test, y_test) = mnist.load_data()\n",
    "x_train, x_test = x_train / 255.0, x_test / 255.0\n",
    "\n",
    "model = tf.keras.models.Sequential([\n",
    "  tf.keras.layers.Flatten(input_shape=(28, 28)),\n",
    "  tf.keras.layers.Dense(512, activation=tf.nn.relu),\n",
    "  tf.keras.layers.Dropout(0.2),\n",
    "  tf.keras.layers.Dense(10, activation=tf.nn.softmax)\n",
    "])\n",
    "model.compile(optimizer='adam',\n",
    "              loss='sparse_categorical_crossentropy',\n",
    "              metrics=['accuracy'])\n",
    "\n",
    "model.fit(x_train, y_train, epochs=10)\n",
    "model.evaluate(x_test, y_test)"
   ]
  },
  {
   "cell_type": "code",
   "execution_count": null,
   "metadata": {},
   "outputs": [],
   "source": []
  }
 ],
 "metadata": {
  "kernelspec": {
   "display_name": "Python (reco)",
   "language": "python",
   "name": "reco_base"
  },
  "language_info": {
   "codemirror_mode": {
    "name": "ipython",
    "version": 3
   },
   "file_extension": ".py",
   "mimetype": "text/x-python",
   "name": "python",
   "nbconvert_exporter": "python",
   "pygments_lexer": "ipython3",
   "version": "3.6.8"
  }
 },
 "nbformat": 4,
 "nbformat_minor": 2
}
