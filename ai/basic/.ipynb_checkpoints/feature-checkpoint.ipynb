{
 "cells": [
  {
   "cell_type": "code",
   "execution_count": 16,
   "metadata": {},
   "outputs": [],
   "source": [
    "import tensorflow as tf\n",
    "from tensorflow.python.estimator.inputs import numpy_io\n",
    "import numpy as np\n",
    "import collections\n",
    "from tensorflow.python.framework import errors\n",
    "from tensorflow.python.platform import test\n",
    "from tensorflow.python.training import coordinator\n",
    "from tensorflow import feature_column\n",
    "\n",
    "from tensorflow.python.feature_column.feature_column import _LazyBuilder\n",
    "import os\n",
    "os.environ[\"TF_CPP_MIN_LOG_LEVEL\"]='3'"
   ]
  },
  {
   "cell_type": "code",
   "execution_count": 33,
   "metadata": {},
   "outputs": [
    {
     "name": "stdout",
     "output_type": "stream",
     "text": [
      "[array([[0., 1., 0., 0., 0., 0.],\n",
      "       [0., 0., 1., 0., 0., 0.],\n",
      "       [0., 0., 0., 1., 0., 0.],\n",
      "       [0., 0., 0., 0., 1., 0.]], dtype=float32)]\n",
      "[array([[10.,  5.,  0.,  1.,  0.,  0.,  0.,  0.],\n",
      "       [20., 15.,  0.,  0.,  1.,  0.,  0.,  0.],\n",
      "       [30., 25.,  0.,  0.,  0.,  1.,  0.,  0.],\n",
      "       [40., 35.,  0.,  0.,  0.,  0.,  1.,  0.]], dtype=float32)]\n"
     ]
    }
   ],
   "source": [
    "def test_bucketized_column():\n",
    "    price = {'price': [[5.], [15.], [25.], [35.]],'age':[[10],[20],[30],[40]]}  # 4行样本\n",
    "    price_column = feature_column.numeric_column('price')\n",
    "    age_column = feature_column.numeric_column('age')\n",
    "    bucket_price = feature_column.bucketized_column(price_column, [0, 10, 20, 30, 40])\n",
    "\n",
    "    price_bucket_tensor = feature_column.input_layer(price, [bucket_price])\n",
    "    price_tensor = feature_column.input_layer(price, [price_column, age_column, bucket_price])\n",
    "\n",
    "    with tf.Session() as session:\n",
    "        print(session.run([price_bucket_tensor]))\n",
    "        print(session.run([price_tensor]))\n",
    "\n",
    "\n",
    "test_bucketized_column()\n"
   ]
  },
  {
   "cell_type": "code",
   "execution_count": 54,
   "metadata": {},
   "outputs": [
    {
     "name": "stdout",
     "output_type": "stream",
     "text": [
      "[array([[3., 1., 0., 0.],\n",
      "       [2., 2., 0., 0.],\n",
      "       [1., 2., 1., 0.],\n",
      "       [1., 1., 0., 2.]], dtype=float32)]\n"
     ]
    }
   ],
   "source": [
    "def test_categorical_column_with_vocabulary_list():\n",
    "\n",
    "    #color_data = {'color': [['R'], ['G'], ['B'], ['A']]}  # 4行样本\n",
    "    #color_data = {'color': [['R', 'R'], ['G', 'R'], ['B', 'G'], ['A', 'A']]}  # 4行样本\n",
    "    color_data = {'color': [['R', 'R','R', 'G'], ['G', 'R','R', 'G'], ['B', 'G','R', 'G'], ['A', 'A','R', 'G']]}  # 4行样本\n",
    "\n",
    "    color_column = feature_column.categorical_column_with_vocabulary_list(\n",
    "        'color', ['R', 'G', 'B','A'], dtype=tf.string, default_value=-1\n",
    "    )\n",
    "\n",
    "    # 将稀疏的转换成dense，也就是one-hot形式，只是multi-hot\n",
    "    color_column_identy = feature_column.indicator_column(color_column)\n",
    "\n",
    "    color_dense_tensor = feature_column.input_layer(color_data, [color_column_identy])\n",
    "\n",
    "    with tf.Session() as session:\n",
    "        session.run(tf.global_variables_initializer())\n",
    "\n",
    "        session.run(tf.tables_initializer())\n",
    "\n",
    "        print(session.run([color_dense_tensor]))\n",
    "\n",
    "test_categorical_column_with_vocabulary_list()"
   ]
  },
  {
   "cell_type": "code",
   "execution_count": 6,
   "metadata": {},
   "outputs": [
    {
     "name": "stdout",
     "output_type": "stream",
     "text": [
      "[array([[0., 1., 0., 0., 0., 0., 0., 0., 1., 0.],\n",
      "       [0., 1., 0., 0., 0., 0., 0., 0., 1., 0.],\n",
      "       [0., 0., 0., 0., 1., 0., 0., 0., 1., 0.],\n",
      "       [0., 1., 0., 0., 1., 0., 0., 0., 0., 0.]], dtype=float32)]\n"
     ]
    }
   ],
   "source": [
    "def test_categorical_column_with_hash_bucket():\n",
    "\n",
    "    color_data = {'color': [['R','G'], ['G','B'], ['B','A'], ['A','G']]}  # 4行样本\n",
    "    color_column = feature_column.categorical_column_with_hash_bucket('color', 10)\n",
    "\n",
    "    # 将稀疏的转换成dense，也就是one-hot形式，只是multi-hot\n",
    "    color_column_identy = feature_column.indicator_column(color_column)\n",
    "\n",
    "    color_dense_tensor = feature_column.input_layer(color_data, [color_column_identy])\n",
    "\n",
    "    with tf.Session() as session:\n",
    "        session.run(tf.global_variables_initializer())\n",
    "\n",
    "        session.run(tf.tables_initializer())\n",
    "\n",
    "        print(session.run([color_dense_tensor]))\n",
    "        \n",
    "test_categorical_column_with_hash_bucket()\n"
   ]
  },
  {
   "cell_type": "code",
   "execution_count": 10,
   "metadata": {},
   "outputs": [
    {
     "name": "stdout",
     "output_type": "stream",
     "text": [
      "[array([[-0.04973869,  0.20958067,  0.17388345, -0.13264756, -0.11004642],\n",
      "       [-0.82928395, -0.78619385,  0.70044094, -0.4077269 ,  0.3656607 ],\n",
      "       [ 0.05769355,  0.55874443, -0.37802103,  0.2991749 ,  0.10224926],\n",
      "       [ 0.        ,  0.        ,  0.        ,  0.        ,  0.        ]],\n",
      "      dtype=float32)]\n"
     ]
    }
   ],
   "source": [
    "def test_embedding():\n",
    "    color_data = {'color': [['R'], ['G'], ['B'], ['A']]}  # 4行样本\n",
    "    color_column = feature_column.categorical_column_with_vocabulary_list(\n",
    "        'color', ['R', 'G', 'B'], dtype=tf.string, default_value=-1\n",
    "    )\n",
    "\n",
    "    color_embeding = feature_column.embedding_column(color_column, 5)\n",
    "    color_embeding_dense_tensor = feature_column.input_layer(color_data, [color_embeding])\n",
    "\n",
    "    with tf.Session() as session:\n",
    "        session.run(tf.global_variables_initializer())\n",
    "        session.run(tf.tables_initializer())\n",
    "\n",
    "        print(session.run([color_embeding_dense_tensor]))\n",
    "\n",
    "test_embedding()\n"
   ]
  },
  {
   "cell_type": "code",
   "execution_count": 18,
   "metadata": {},
   "outputs": [
    {
     "name": "stdout",
     "output_type": "stream",
     "text": [
      "use input_layer________________________________________\n",
      "[array([[0., 0., 0., 0., 0., 0., 0., 0., 4., 0., 0., 0., 0., 0., 0., 0.],\n",
      "       [0., 0., 0., 0., 2., 0., 0., 0., 0., 2., 0., 0., 0., 0., 0., 0.],\n",
      "       [0., 0., 0., 0., 0., 0., 0., 0., 0., 0., 0., 2., 0., 0., 2., 0.]],\n",
      "      dtype=float32)]\n",
      "price________________________________________\n",
      "[array([[2., 0., 0., 0.],\n",
      "       [0., 1., 0., 1.],\n",
      "       [1., 0., 1., 0.]], dtype=float32)]\n",
      "color________________________________________\n",
      "[array([[2., 0., 0.],\n",
      "       [0., 2., 0.],\n",
      "       [0., 0., 2.]], dtype=float32)]\n"
     ]
    }
   ],
   "source": [
    "def test_crossed_column():\n",
    "    \"\"\"\n",
    "    crossed column测试\n",
    "    :return:\n",
    "    \"\"\"\n",
    "    featrues = {\n",
    "        'price': [['A', 'A'], ['B', 'D'], ['C', 'A']],\n",
    "        'color': [['R', 'R'], ['G', 'G'], ['B', 'B']]\n",
    "    }\n",
    "\n",
    "    price = feature_column.categorical_column_with_vocabulary_list('price', ['A', 'B', 'C', 'D'])\n",
    "    color = feature_column.categorical_column_with_vocabulary_list('color', ['R', 'G', 'B'])\n",
    "    p_x_c = feature_column.crossed_column([price, color], 16)\n",
    "\n",
    "    p_x_c_identy = feature_column.indicator_column(p_x_c)\n",
    "    p_x_c_identy_dense_tensor = feature_column.input_layer(featrues, [p_x_c_identy])\n",
    "    \n",
    "    price_column_identy = feature_column.indicator_column(price)\n",
    "    price_dense_tensor = feature_column.input_layer(featrues, [price_column_identy])\n",
    "    \n",
    "    color_column_identy = feature_column.indicator_column(color)\n",
    "    color_dense_tensor = feature_column.input_layer(featrues, [color_column_identy])\n",
    "\n",
    "\n",
    "    with tf.Session() as session:\n",
    "        session.run(tf.global_variables_initializer())\n",
    "\n",
    "        session.run(tf.tables_initializer())\n",
    "\n",
    "        print('use input_layer' + '_' * 40)\n",
    "        print(session.run([p_x_c_identy_dense_tensor]))\n",
    "        \n",
    "        print('price' + '_' * 40)\n",
    "        print(session.run([price_dense_tensor]))\n",
    "        \n",
    "        print('color' + '_' * 40)\n",
    "        print(session.run([color_dense_tensor]))\n",
    "\n",
    "test_crossed_column()"
   ]
  },
  {
   "cell_type": "code",
   "execution_count": null,
   "metadata": {},
   "outputs": [],
   "source": []
  }
 ],
 "metadata": {
  "kernelspec": {
   "display_name": "Python (ai)",
   "language": "python",
   "name": "ai"
  },
  "language_info": {
   "codemirror_mode": {
    "name": "ipython",
    "version": 3
   },
   "file_extension": ".py",
   "mimetype": "text/x-python",
   "name": "python",
   "nbconvert_exporter": "python",
   "pygments_lexer": "ipython3",
   "version": "3.7.4"
  }
 },
 "nbformat": 4,
 "nbformat_minor": 2
}
