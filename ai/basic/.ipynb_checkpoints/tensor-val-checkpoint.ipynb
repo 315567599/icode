{
 "cells": [
  {
   "cell_type": "code",
   "execution_count": 3,
   "metadata": {},
   "outputs": [
    {
     "name": "stdout",
     "output_type": "stream",
     "text": [
      "5\n"
     ]
    }
   ],
   "source": [
    "import tensorflow as tf\n",
    "sess=tf.Session()\n",
    "w1=tf.Variable(5,dtype=tf.int32)\n",
    "sess.run(tf.global_variables_initializer())\n",
    "print(sess.run(w1))\n",
    " "
   ]
  },
  {
   "cell_type": "code",
   "execution_count": null,
   "metadata": {},
   "outputs": [],
   "source": [
    "import tensorflow as tf\n",
    "sess=tf.Session()\n",
    "predict_x = {\n",
    "    'length':[5.1,5.9,6.9],\n",
    "    'width':[3.3,3.0,3.1],\n",
    "    'height':[1.7,4.2,5.4],\n",
    "    'weight':[80,60,120],\n",
    "}\n",
    "label = [1,2,3,4]\n",
    "inputs = (predict_x, label)\n",
    "dataset = tf.data.Dataset.from_tensor_slices(inputs)\n",
    "sess.run(tf.global_variables_initializer())\n",
    "print(sess.run(dataset))"
   ]
  }
 ],
 "metadata": {
  "kernelspec": {
   "display_name": "Python (reco)",
   "language": "python",
   "name": "reco_base"
  },
  "language_info": {
   "codemirror_mode": {
    "name": "ipython",
    "version": 3
   },
   "file_extension": ".py",
   "mimetype": "text/x-python",
   "name": "python",
   "nbconvert_exporter": "python",
   "pygments_lexer": "ipython3",
   "version": "3.6.8"
  }
 },
 "nbformat": 4,
 "nbformat_minor": 2
}
