{
 "cells": [
  {
   "cell_type": "code",
   "execution_count": 6,
   "metadata": {},
   "outputs": [
    {
     "name": "stdout",
     "output_type": "stream",
     "text": [
      "None\n",
      "10\n",
      "100\n",
      "100\n",
      "4\n",
      "8\n",
      "16\n"
     ]
    }
   ],
   "source": [
    "import tensorflow as tf\n",
    "\n",
    "w = tf.Variable(10)\n",
    "assign_op = w.assign(100) # 将变量w 修改成100\n",
    "\n",
    "with tf.Session() as session:\n",
    "    print (session.run(w.initializer))\n",
    "    print (w.eval())\n",
    "    print (session.run(assign_op))\n",
    "    print (w.eval()) \n",
    "\n",
    "my_var = tf.Variable(2, name='my_var')\n",
    "\n",
    "my_var_times_two = my_var.assign(my_var * 2) # 将自己乘以2 后再赋值给自己\n",
    "\n",
    "with tf.Session() as session:\n",
    "    session.run(tf.global_variables_initializer()) # 一次性初始化所有的变量, 注意这是一个函数，前面Variablie.initliazer是一个成员\n",
    "    print (session.run(my_var_times_two))\n",
    "    print (session.run(my_var_times_two))\n",
    "    print (session.run(my_var_times_two))\n"
   ]
  },
  {
   "cell_type": "code",
   "execution_count": null,
   "metadata": {},
   "outputs": [],
   "source": []
  }
 ],
 "metadata": {
  "kernelspec": {
   "display_name": "Python (ai)",
   "language": "python",
   "name": "ai"
  },
  "language_info": {
   "codemirror_mode": {
    "name": "ipython",
    "version": 3
   },
   "file_extension": ".py",
   "mimetype": "text/x-python",
   "name": "python",
   "nbconvert_exporter": "python",
   "pygments_lexer": "ipython3",
   "version": "3.7.4"
  }
 },
 "nbformat": 4,
 "nbformat_minor": 2
}
