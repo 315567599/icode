{
 "cells": [
  {
   "cell_type": "code",
   "execution_count": 1,
   "metadata": {},
   "outputs": [],
   "source": [
    "import tensorflow as tf\n",
    "import numpy as np"
   ]
  },
  {
   "cell_type": "code",
   "execution_count": 12,
   "metadata": {},
   "outputs": [
    {
     "name": "stdout",
     "output_type": "stream",
     "text": [
      "0 [0.051215064, 0.096172035]\n",
      "20 [0.092561856, 0.19321646]\n",
      "40 [0.08747058, 0.19596586]\n",
      "60 [0.08444276, 0.19760089]\n",
      "80 [0.0826421, 0.19857326]\n",
      "100 [0.08157125, 0.19915152]\n",
      "120 [0.08093442, 0.1994954]\n",
      "140 [0.08055569, 0.19969992]\n",
      "160 [0.08033047, 0.19982155]\n",
      "180 [0.08019652, 0.19989388]\n",
      "200 [0.08011687, 0.1999369]\n",
      "220 [0.0800695, 0.19996247]\n",
      "240 [0.08004134, 0.19997768]\n",
      "260 [0.08002458, 0.19998673]\n",
      "280 [0.080014616, 0.1999921]\n",
      "300 [0.08000869, 0.19999531]\n",
      "320 [0.08000518, 0.1999972]\n",
      "340 [0.08000308, 0.19999833]\n",
      "360 [0.080001846, 0.199999]\n",
      "380 [0.08000111, 0.19999939]\n",
      "400 [0.08000066, 0.19999965]\n",
      "420 [0.08000039, 0.19999978]\n",
      "440 [0.080000244, 0.19999987]\n",
      "460 [0.0800002, 0.19999988]\n",
      "480 [0.0800002, 0.19999988]\n"
     ]
    }
   ],
   "source": [
    "#使用numpy生成100个随机点\n",
    "x_data = np.random.rand(100)\n",
    "y_data = x_data*8 + 0.2\n",
    "\n",
    "#构造一个线性模型\n",
    "b = tf.Variable(0.)\n",
    "k = tf.Variable(0.)\n",
    "y= k*x_data + b\n",
    "\n",
    "#二次代价函数\n",
    "loss = tf.reduce_mean(tf.square(y_data - y))\n",
    "\n",
    "#梯度下降法进行训练的优化器\n",
    "optimizer = tf.train.GradientDescentOptimizer(0.2)\n",
    "\n",
    "#最小化代价函数\n",
    "train = optimizer.minimize(loss)\n",
    "\n",
    "init = tf.global_variables_initializer()\n",
    "\n",
    "with tf.Session() as sess:\n",
    "    sess.run(init)\n",
    "    for step in range(500):\n",
    "        sess.run(train)\n",
    "        if step%20 == 0:\n",
    "            print(step,sess.run([k,b]))\n",
    "        "
   ]
  },
  {
   "cell_type": "code",
   "execution_count": null,
   "metadata": {},
   "outputs": [],
   "source": []
  }
 ],
 "metadata": {
  "kernelspec": {
   "display_name": "Python 3",
   "language": "python",
   "name": "python3"
  },
  "language_info": {
   "codemirror_mode": {
    "name": "ipython",
    "version": 3
   },
   "file_extension": ".py",
   "mimetype": "text/x-python",
   "name": "python",
   "nbconvert_exporter": "python",
   "pygments_lexer": "ipython3",
   "version": "3.6.8"
  }
 },
 "nbformat": 4,
 "nbformat_minor": 2
}
