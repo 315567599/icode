{
 "cells": [
  {
   "cell_type": "code",
   "execution_count": 1,
   "metadata": {},
   "outputs": [],
   "source": [
    "import tensorflow as tf\n",
    "import numpy as np"
   ]
  },
  {
   "cell_type": "code",
   "execution_count": 14,
   "metadata": {},
   "outputs": [
    {
     "name": "stdout",
     "output_type": "stream",
     "text": [
      "0 [1.1476461, 1.7038891]\n",
      "20 [4.6283674, 2.0383196]\n",
      "40 [6.077853, 1.2480152]\n",
      "60 [6.904196, 0.79746705]\n",
      "80 [7.375289, 0.5406121]\n",
      "100 [7.6438565, 0.39418083]\n",
      "120 [7.7969656, 0.31070086]\n",
      "140 [7.884251, 0.26310977]\n",
      "160 [7.9340124, 0.23597834]\n",
      "180 [7.962381, 0.22051102]\n",
      "200 [7.9785533, 0.21169345]\n",
      "220 [7.987774, 0.20666608]\n",
      "240 [7.99303, 0.2038003]\n",
      "260 [7.9960265, 0.20216657]\n",
      "280 [7.997734, 0.20123547]\n",
      "300 [7.9987073, 0.20070468]\n",
      "320 [7.9992633, 0.20040159]\n",
      "340 [7.99958, 0.20022905]\n",
      "360 [7.99976, 0.20013073]\n",
      "380 [7.9998627, 0.20007469]\n",
      "400 [7.999922, 0.20004271]\n",
      "420 [7.999955, 0.20002459]\n",
      "440 [7.9999747, 0.20001394]\n",
      "460 [7.9999847, 0.20000839]\n",
      "480 [7.999992, 0.20000435]\n"
     ]
    }
   ],
   "source": [
    "#使用numpy生成100个随机点\n",
    "x_data = np.random.rand(100)\n",
    "y_data = x_data*8 + 0.2\n",
    "\n",
    "#构造一个线性模型\n",
    "b = tf.Variable(0.)\n",
    "k = tf.Variable(0.)\n",
    "y= k*x_data + b\n",
    "\n",
    "#二次代价函数\n",
    "loss = tf.reduce_mean(tf.square(y_data - y))\n",
    "\n",
    "#梯度下降法进行训练的优化器\n",
    "optimizer = tf.train.GradientDescentOptimizer(0.2)\n",
    "\n",
    "#最小化代价函数\n",
    "train = optimizer.minimize(loss)\n",
    "\n",
    "init = tf.global_variables_initializer()\n",
    "\n",
    "with tf.Session() as sess:\n",
    "    sess.run(init)\n",
    "    for step in range(500):\n",
    "        sess.run(train)\n",
    "        if step%20 == 0:\n",
    "            print(step,sess.run([k,b]))\n",
    "        "
   ]
  },
  {
   "cell_type": "code",
   "execution_count": null,
   "metadata": {},
   "outputs": [],
   "source": []
  }
 ],
 "metadata": {
  "kernelspec": {
   "display_name": "Python 3",
   "language": "python",
   "name": "python3"
  },
  "language_info": {
   "codemirror_mode": {
    "name": "ipython",
    "version": 3
   },
   "file_extension": ".py",
   "mimetype": "text/x-python",
   "name": "python",
   "nbconvert_exporter": "python",
   "pygments_lexer": "ipython3",
   "version": "3.6.8"
  }
 },
 "nbformat": 4,
 "nbformat_minor": 2
}
