{
 "cells": [
  {
   "cell_type": "code",
   "execution_count": 8,
   "metadata": {},
   "outputs": [
    {
     "name": "stdout",
     "output_type": "stream",
     "text": [
      "['小明', '从', '前门', '进来']\n"
     ]
    }
   ],
   "source": [
    "def longestMatchSegment(lexicon, sentence):\n",
    "    \"\"\"\n",
    "    lexicon: (set) A set of Chinese word\n",
    "    input: (str) untokenized string\n",
    "    \"\"\"\n",
    "    max_len = max(len(w) for w in lexicon)\n",
    "    words = []\n",
    "    index = 0\n",
    "    while index < len(sentence):\n",
    "        for offset in range(index+max_len, index, -1):\n",
    "            w = sentence[index:offset]\n",
    "            if w in lexicon or len(w) == 1:\n",
    "                words.append(w)\n",
    "                index = offset\n",
    "                break\n",
    "    return words\n",
    "\n",
    "\n",
    "#demo\n",
    "lexicon = [\"小明\",\"前门\",\"进来\"]\n",
    "sentence = '小明从前门进来'\n",
    "print(longestMatchSegment(lexicon,sentence))"
   ]
  },
  {
   "cell_type": "code",
   "execution_count": null,
   "metadata": {},
   "outputs": [],
   "source": []
  },
  {
   "cell_type": "code",
   "execution_count": null,
   "metadata": {},
   "outputs": [],
   "source": []
  }
 ],
 "metadata": {
  "kernelspec": {
   "display_name": "Python 3",
   "language": "python",
   "name": "python3"
  },
  "language_info": {
   "codemirror_mode": {
    "name": "ipython",
    "version": 3
   },
   "file_extension": ".py",
   "mimetype": "text/x-python",
   "name": "python",
   "nbconvert_exporter": "python",
   "pygments_lexer": "ipython3",
   "version": "3.6.4"
  }
 },
 "nbformat": 4,
 "nbformat_minor": 2
}
