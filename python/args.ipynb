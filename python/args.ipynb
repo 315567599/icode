{
 "cells": [
  {
   "cell_type": "code",
   "execution_count": 2,
   "metadata": {},
   "outputs": [
    {
     "name": "stdout",
     "output_type": "stream",
     "text": [
      "Required argument:  1\n",
      "Optional argument:  2\n",
      "Required argument:  1\n",
      "Optional argument:  3\n"
     ]
    }
   ],
   "source": [
    "def test_defargs(one, two = 2):\n",
    "   print ('Required argument: ', one)\n",
    "   print ('Optional argument: ', two)\n",
    "\n",
    "test_defargs(1)\n",
    "# result:\n",
    "# Required argument: 1\n",
    "# Optional argument: 2\n",
    "\n",
    "test_defargs(1, 3)\n",
    "# result:\n",
    "# Required argument: 1\n",
    "# Optional argument: 3"
   ]
  },
  {
   "cell_type": "code",
   "execution_count": null,
   "metadata": {},
   "outputs": [],
   "source": [
    "def test_args(first, *args):\n",
    "   print 'Required argument: ', first\n",
    "   for v in args:\n",
    "      print 'Optional argument: ', v\n",
    "\n",
    "test_args(1, 2, 3, 4)\n",
    "# result:\n",
    "# Required argument: 1\n",
    "# Optional argument:  2\n",
    "# Optional argument:  3\n",
    "# Optional argument:  4"
   ]
  },
  {
   "cell_type": "code",
   "execution_count": null,
   "metadata": {},
   "outputs": [],
   "source": [
    "def test_kwargs(first, *args, **kwargs):\n",
    "   print 'Required argument: ', first\n",
    "   for v in args:\n",
    "      print 'Optional argument (*args): ', v\n",
    "   for k, v in kwargs.items():\n",
    "      print 'Optional argument %s (*kwargs): %s' % (k, v)\n",
    "\n",
    "test_kwargs(1, 2, 3, 4, k1=5, k2=6)\n",
    "# results:\n",
    "# Required argument:  1\n",
    "# Optional argument (*args):  2\n",
    "# Optional argument (*args):  3\n",
    "# Optional argument (*args):  4\n",
    "# Optional argument k2 (*kwargs): 6\n",
    "# Optional argument k1 (*kwargs): 5"
   ]
  },
  {
   "cell_type": "code",
   "execution_count": null,
   "metadata": {},
   "outputs": [],
   "source": [
    "def test_args(first, second, third, fourth, fifth):\n",
    "    print 'First argument: ', first\n",
    "    print 'Second argument: ', second\n",
    "    print 'Third argument: ', third\n",
    "    print 'Fourth argument: ', fourth\n",
    "    print 'Fifth argument: ', fifth\n",
    "\n",
    "# Use *args\n",
    "args = [1, 2, 3, 4, 5]\n",
    "test_args(*args)\n",
    "# results:\n",
    "# First argument:  1\n",
    "# Second argument:  2\n",
    "# Third argument:  3\n",
    "# Fourth argument:  4\n",
    "# Fifth argument:  5\n",
    "\n",
    "# Use **kwargs\n",
    "kwargs = {\n",
    "    'first': 1,\n",
    "    'second': 2,\n",
    "    'third': 3,\n",
    "    'fourth': 4,\n",
    "    'fifth': 5\n",
    "}\n",
    "\n",
    "test_args(**kwargs)\n",
    "# results:\n",
    "# First argument:  1\n",
    "# Second argument:  2\n",
    "# Third argument:  3\n",
    "# Fourth argument:  4\n",
    "# Fifth argument:  5"
   ]
  }
 ],
 "metadata": {
  "kernelspec": {
   "display_name": "Python 3",
   "language": "python",
   "name": "python3"
  },
  "language_info": {
   "codemirror_mode": {
    "name": "ipython",
    "version": 3
   },
   "file_extension": ".py",
   "mimetype": "text/x-python",
   "name": "python",
   "nbconvert_exporter": "python",
   "pygments_lexer": "ipython3",
   "version": "3.6.4"
  }
 },
 "nbformat": 4,
 "nbformat_minor": 2
}
